{
  "nbformat": 4,
  "nbformat_minor": 0,
  "metadata": {
    "colab": {
      "provenance": [],
      "include_colab_link": true
    },
    "kernelspec": {
      "name": "python3",
      "display_name": "Python 3"
    }
  },
  "cells": [
    {
      "cell_type": "markdown",
      "metadata": {
        "id": "view-in-github",
        "colab_type": "text"
      },
      "source": [
        "<a href=\"https://colab.research.google.com/github/Kiksecret/Basic_Tensorflow/blob/main/Basic_TensorFlow_with_Text.ipynb\" target=\"_parent\"><img src=\"https://colab.research.google.com/assets/colab-badge.svg\" alt=\"Open In Colab\"/></a>"
      ]
    },
    {
      "cell_type": "code",
      "metadata": {
        "id": "g-M0FaFMl2UQ",
        "colab": {
          "base_uri": "https://localhost:8080/"
        },
        "outputId": "9613d407-60fd-42e9-c8bc-6f09bb0fa568"
      },
      "source": [
        "import tensorflow as tf\n",
        "print(tf.__version__)"
      ],
      "execution_count": null,
      "outputs": [
        {
          "output_type": "stream",
          "name": "stdout",
          "text": [
            "2.12.0\n"
          ]
        }
      ]
    },
    {
      "cell_type": "markdown",
      "metadata": {
        "id": "muTgpfHIAlpT"
      },
      "source": [
        "#การทำ Text Classification สำหรับการคัดแยกข้อความเป็นข้อความประชดประชันหรือไม่ \n",
        "\n",
        "\n",
        "ดาวน์โหลด:\n",
        "\n",
        "https://storage.googleapis.com/laurencemoroney-blog.appspot.com/sarcasm.json\n"
      ]
    },
    {
      "cell_type": "code",
      "metadata": {
        "id": "-_l22c4lFHh6"
      },
      "source": [
        "!wget --no-check-certificate \\\n",
        "  https://storage.googleapis.com/laurencemoroney-blog.appspot.com/sarcasm.json \\\n",
        "  -O /tmp/sarcasm.json\n",
        "\n",
        "import json\n",
        "\n",
        "with open(\"/tmp/sarcasm.json\", 'r') as f:\n",
        "  datastore = json.load(f)"
      ],
      "execution_count": null,
      "outputs": []
    },
    {
      "cell_type": "code",
      "metadata": {
        "id": "70VZjDCyHye2",
        "colab": {
          "base_uri": "https://localhost:8080/"
        },
        "outputId": "0c28661c-a1f7-49f1-f018-b2cde64e7922"
      },
      "source": [
        "import numpy as np\n",
        "\n",
        "sentences = []\n",
        "labels = []\n",
        "urls = []\n",
        "for item in datastore:\n",
        "  sentences.append(item['headline'])\n",
        "  labels.append(item['is_sarcastic'])\n",
        "  urls.append(item['article_link'])\n",
        "\n",
        "training_size = 20000\n",
        "training_sentences = sentences[0:training_size]\n",
        "testing_sentences  = sentences[training_size:]\n",
        "print(len(testing_sentences))\n",
        "\n",
        "training_labels = np.array(labels[0:training_size])\n",
        "testing_labels  = np.array(labels[training_size:])\n",
        "print(len(testing_labels))"
      ],
      "execution_count": null,
      "outputs": [
        {
          "output_type": "stream",
          "text": [
            "6709\n",
            "6709\n"
          ],
          "name": "stdout"
        }
      ]
    },
    {
      "cell_type": "markdown",
      "metadata": {
        "id": "d_tVwweiIgNk"
      },
      "source": [
        "## Hyper-parameters for modeling"
      ]
    },
    {
      "cell_type": "code",
      "metadata": {
        "id": "fEL8-C4UIpAH"
      },
      "source": [
        "vocab_size = 10000\n",
        "embedding_dim = 16\n",
        "max_length = 32\n",
        "trunc_type = 'post'\n",
        "padding_type = 'post'\n",
        "oov_tok = \"<OOV>\""
      ],
      "execution_count": null,
      "outputs": []
    },
    {
      "cell_type": "markdown",
      "metadata": {
        "id": "wZsUM8bTknhd"
      },
      "source": [
        "## Modeling:\n",
        "\n"
      ]
    },
    {
      "cell_type": "code",
      "metadata": {
        "id": "UIQ8982bikBK",
        "colab": {
          "base_uri": "https://localhost:8080/"
        },
        "outputId": "a0b41477-ee05-48c2-f23c-854600fbda79"
      },
      "source": [
        "from tensorflow.keras.preprocessing.text import Tokenizer\n",
        "from tensorflow.keras.preprocessing.sequence import pad_sequences\n",
        "tokenizer = Tokenizer(num_words=vocab_size, oov_token=oov_tok)\n",
        "tokenizer.fit_on_texts(training_sentences)\n",
        "word_index = tokenizer.word_index\n",
        "\n",
        "training_sequences = tokenizer.texts_to_sequences(training_sentences)\n",
        "training_padded = pad_sequences(training_sequences, \n",
        "                                maxlen=max_length, \n",
        "                                padding=padding_type,\n",
        "                                truncating=trunc_type)\n",
        "\n",
        "testing_sequences = tokenizer.texts_to_sequences(testing_sentences)\n",
        "testing_padded = pad_sequences(testing_sequences, \n",
        "                                maxlen=max_length, \n",
        "                                padding=padding_type,\n",
        "                                truncating=trunc_type)\n",
        "\n",
        "model = tf.keras.Sequential([\n",
        "  tf.keras.layers.Embedding(vocab_size, embedding_dim, input_length=max_length),\n",
        "  tf.keras.layers.GlobalAveragePooling1D(),\n",
        "  tf.keras.layers.Dense(24, activation='relu'),\n",
        "  tf.keras.layers.Dense(1, activation='sigmoid')\n",
        "])\n",
        "\n",
        "model.compile(loss='binary_crossentropy', optimizer='adam',metrics=['accuracy'])\n",
        "model.summary()"
      ],
      "execution_count": null,
      "outputs": [
        {
          "output_type": "stream",
          "text": [
            "Model: \"sequential\"\n",
            "_________________________________________________________________\n",
            "Layer (type)                 Output Shape              Param #   \n",
            "=================================================================\n",
            "embedding (Embedding)        (None, 32, 16)            160000    \n",
            "_________________________________________________________________\n",
            "global_average_pooling1d (Gl (None, 16)                0         \n",
            "_________________________________________________________________\n",
            "dense (Dense)                (None, 24)                408       \n",
            "_________________________________________________________________\n",
            "dense_1 (Dense)              (None, 1)                 25        \n",
            "=================================================================\n",
            "Total params: 160,433\n",
            "Trainable params: 160,433\n",
            "Non-trainable params: 0\n",
            "_________________________________________________________________\n"
          ],
          "name": "stdout"
        }
      ]
    },
    {
      "cell_type": "markdown",
      "metadata": {
        "id": "IrK1KnUFmqk4"
      },
      "source": [
        "## Training:\n"
      ]
    },
    {
      "cell_type": "code",
      "metadata": {
        "id": "DIixwLl1mtOq",
        "colab": {
          "base_uri": "https://localhost:8080/"
        },
        "outputId": "f8223c0b-bc0a-4e70-99aa-e01a28aa533d"
      },
      "source": [
        "num_epochs = 10\n",
        "\n",
        "history = model.fit(training_padded, training_labels, epochs=num_epochs,\n",
        "                    validation_data=(testing_padded, testing_labels), verbose=2)"
      ],
      "execution_count": null,
      "outputs": [
        {
          "output_type": "stream",
          "text": [
            "Epoch 1/10\n",
            "625/625 - 3s - loss: 0.5617 - accuracy: 0.7003 - val_loss: 0.3951 - val_accuracy: 0.8311\n",
            "Epoch 2/10\n",
            "625/625 - 2s - loss: 0.3098 - accuracy: 0.8769 - val_loss: 0.3457 - val_accuracy: 0.8545\n",
            "Epoch 3/10\n",
            "625/625 - 2s - loss: 0.2318 - accuracy: 0.9093 - val_loss: 0.3449 - val_accuracy: 0.8565\n",
            "Epoch 4/10\n",
            "625/625 - 2s - loss: 0.1868 - accuracy: 0.9298 - val_loss: 0.3632 - val_accuracy: 0.8550\n",
            "Epoch 5/10\n",
            "625/625 - 2s - loss: 0.1545 - accuracy: 0.9439 - val_loss: 0.4002 - val_accuracy: 0.8486\n",
            "Epoch 6/10\n",
            "625/625 - 2s - loss: 0.1309 - accuracy: 0.9529 - val_loss: 0.4393 - val_accuracy: 0.8413\n",
            "Epoch 7/10\n",
            "625/625 - 2s - loss: 0.1121 - accuracy: 0.9614 - val_loss: 0.4694 - val_accuracy: 0.8411\n",
            "Epoch 8/10\n",
            "625/625 - 2s - loss: 0.0955 - accuracy: 0.9692 - val_loss: 0.5138 - val_accuracy: 0.8389\n",
            "Epoch 9/10\n",
            "625/625 - 2s - loss: 0.0830 - accuracy: 0.9728 - val_loss: 0.5889 - val_accuracy: 0.8317\n",
            "Epoch 10/10\n",
            "625/625 - 2s - loss: 0.0710 - accuracy: 0.9770 - val_loss: 0.6174 - val_accuracy: 0.8320\n"
          ],
          "name": "stdout"
        }
      ]
    },
    {
      "cell_type": "markdown",
      "metadata": {
        "id": "hR0tUKtan3R1"
      },
      "source": [
        "## Visualize the output:"
      ]
    },
    {
      "cell_type": "markdown",
      "metadata": {
        "id": "6cwcW5RcEAcu"
      },
      "source": [
        "ผลลัพธ์ของโมเดลแสดงดังกราฟด้านล่างนี้ โดยแสดงด้วยค่าวัด 2 ค่าคือ Accuracy กับ Loss\n",
        "\n",
        "ในรูปด้านบน Accuracy ของข้อมูลที่ใช้เทรน Deep Learning หรือเส้นสีฟ้า มีค่าสูงขึ้นตาม Epoch ที่รันเพิ่มเติม ในขณะที่ Accuracy ของข้อมูลที่ใช้ทดสอบ (val_accuracy) หรือเส้นสีส้มมีค่าลดลง\n",
        "\n",
        "ส่วนค่า Loss ของข้อมูลที่ใช้เทรน Deep Learning มีค่าลดลง ในขณะที่ Loss ของข้อมูลที่ใช้ทดสอบ (val_loss) เส้นสีส้มมีค่าเพิ่มขึ้น\n",
        "\n",
        "ผลลัพธ์ทั้งสองนี้แสดงให้เห็นว่า ในกรณีนี้ การทำ Text Classification ทำได้ดีเฉพาะกับข้อมูลที่ระบบเคยเห็นมาแล้ว หรือผลลัพธ์ดีกับข้อมูลที่ใช้เทรน แต่สำหรับข้อมูลที่ระบบไม่เคยเห็น (ข้อมูลที่ไม่ได้ใช้เทรน) ระบบให้ผลลัพธ์ที่ไม่ดี พฤติกรรมแบบนี้อาจเรียกได้ว่า เกิด Overfitted "
      ]
    },
    {
      "cell_type": "code",
      "metadata": {
        "id": "fAf1nWPGn6Kp",
        "colab": {
          "base_uri": "https://localhost:8080/",
          "height": 561
        },
        "outputId": "b5e28f24-d199-4266-c0f5-0f13507a3314"
      },
      "source": [
        "import matplotlib.pyplot as plt\n",
        "\n",
        "def plot_graphs(history, string):\n",
        "  plt.plot(history.history[string])\n",
        "  plt.plot(history.history['val_'+string])\n",
        "  plt.xlabel(\"Epochs\")\n",
        "  plt.ylabel(string)\n",
        "  plt.legend([string, 'val_'+string])\n",
        "  plt.show()\n",
        "\n",
        "plot_graphs(history, \"accuracy\")\n",
        "plot_graphs(history, \"loss\")"
      ],
      "execution_count": null,
      "outputs": [
        {
          "output_type": "display_data",
          "data": {
            "image/png": "[encoded data removed]",
            "text/plain": [
              "<Figure size 432x288 with 1 Axes>"
            ]
          },
          "metadata": {
            "tags": [],
            "needs_background": "light"
          }
        },
        {
          "output_type": "display_data",
          "data": {
            "image/png": "[encoded data removed]",
            "text/plain": [
              "<Figure size 432x288 with 1 Axes>"
            ]
          },
          "metadata": {
            "tags": [],
            "needs_background": "light"
          }
        }
      ]
    }
  ]
}